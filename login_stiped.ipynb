{
 "cells": [
  {
   "cell_type": "code",
   "execution_count": null,
   "id": "43dbef4e-b9b7-4c6b-ba98-f81d0f4ec421",
   "metadata": {},
   "outputs": [],
   "source": [
    "import pprint\n",
    "import requests\n",
    "import random\n",
    "from time import sleep\n",
    "from bs4 import BeautifulSoup\n",
    "from selenium import webdriver\n",
    "from selenium.webdriver.common.by import By\n",
    "from selenium.webdriver.chrome.options import Options"
   ]
  },
  {
   "cell_type": "code",
   "execution_count": null,
   "id": "86209350-717b-4c2a-be40-d8fb31782d21",
   "metadata": {},
   "outputs": [],
   "source": [
    "my_login_cookies = [{'domain': '.www.linkedin.com',\n",
    " 'expires': 1753031391,\n",
    " 'name': 'li_at',\n",
    " 'path': '/',\n",
    " 'secure': True,\n",
    " 'value': ''},\n",
    "{'domain': '.www.linkedin.com',\n",
    " 'expires': 1753031391,\n",
    " 'name': 'li_at',\n",
    " 'path': '/',\n",
    " 'secure': True,\n",
    " 'value': ''},\n",
    "{'domain': '.www.linkedin.com',\n",
    " 'expires': 1753031391,\n",
    " 'name': 'li_at',\n",
    " 'path': '/',\n",
    " 'secure': True,\n",
    " 'value': ''},\n",
    "{'domain': '.www.linkedin.com',\n",
    " 'expires': 1753031391,\n",
    " 'name': 'li_at',\n",
    " 'path': '/',\n",
    " 'secure': True,\n",
    " 'value': ''}]"
   ]
  },
  {
   "cell_type": "code",
   "execution_count": null,
   "id": "b91b79b8-11d5-45e3-be05-fad52f57d3ca",
   "metadata": {},
   "outputs": [],
   "source": []
  },
  {
   "cell_type": "code",
   "execution_count": null,
   "id": "7168d75d-3b1b-4ee7-a441-806671d5c88c",
   "metadata": {},
   "outputs": [],
   "source": [
    "login_detiails = [{\n",
    "    'email':'',\n",
    "    'password':'',\n",
    "},\n",
    "                  {\n",
    "    'email':'',\n",
    "    'password':'',\n",
    "},\n",
    "                 ]"
   ]
  },
  {
   "cell_type": "code",
   "execution_count": null,
   "id": "d53723b5-fac1-4fb4-82a9-328539c4beb3",
   "metadata": {},
   "outputs": [],
   "source": []
  },
  {
   "cell_type": "code",
   "execution_count": null,
   "id": "10973a83-c03e-4875-ac46-6bba5bee35dc",
   "metadata": {},
   "outputs": [],
   "source": [
    "def get_cookies_by_selenium(user):\n",
    "    options = Options()\n",
    "    options.add_argument(\"--headless=new\")\n",
    "    driver = webdriver.Chrome(options=options)\n",
    "    driver.get(\"https://linkedin.com/uas/login\")\n",
    "    \n",
    "    driver.find_element(By.XPATH, \"//*[@id='username']\").send_keys(user.get('email'))\n",
    "    driver.find_element(By.XPATH, \"//*[@id='password']\").send_keys(user.get('password'))\n",
    "    \n",
    "    driver.find_element(By.XPATH, \"//*[@id='organic-div']/form/div[3]/button\").click()\n",
    "    \n",
    "    cookies = driver.get_cookies()\n",
    "  \n",
    "    login_cookie = {\"login_cookie\": cookie for cookie in cookies if cookie.get('name') == \"li_at\"}\n",
    "    \n",
    "    Cookie = login_cookie.get(\"login_cookie\")\n",
    "    Cookie.pop(\"httpOnly\")\n",
    "    Cookie.pop(\"sameSite\")\n",
    "    \n",
    "    new_key = \"expires\"\n",
    "    \n",
    "    login = {new_key if key == 'expiry' else key: value for key, value in Cookie.items()}  \n",
    "    \n",
    "    return login"
   ]
  },
  {
   "cell_type": "code",
   "execution_count": null,
   "id": "cd78d3ea-f1a3-4e47-ad3d-99715c86f696",
   "metadata": {},
   "outputs": [],
   "source": [
    "def new_cookies_process(ind):\n",
    "    cookies = {}\n",
    "    while cookies.name == 'li_at':\n",
    "        login_detiail = random.choice(login_detiails)\n",
    "        cookies = get_cookies_by_selenium(login_detiail)\n",
    "        \n",
    "    my_login_cookies [ind] = cookies\n",
    "\n",
    "    return cookies"
   ]
  },
  {
   "cell_type": "code",
   "execution_count": null,
   "id": "2f956bf3-f520-42fa-bb69-1579db3cf420",
   "metadata": {},
   "outputs": [],
   "source": [
    "def login_using_cookie_selenium(url , my_cookies):\n",
    "    # options = Options()\n",
    "    # options.add_argument(\"--headless=new\")\n",
    "    # driver = webdriver.Chrome(options=options)\n",
    "\n",
    "    driver = webdriver.Chrome()\n",
    "    \n",
    "    driver.get(\"https://linkedin.com/uas/login\")\n",
    "\n",
    "    cookie = random.choice(my_cookies)\n",
    "    \n",
    "    driver.add_cookie(cookie)\n",
    "    driver.get(url)\n",
    "    sleep(2)\n",
    "    \n",
    "    source = driver.page_source\n",
    "    soup=BeautifulSoup(source,'html.parser')\n",
    "    sign = soup.find('h1').text.strip()\n",
    "    if sign == 'Sign in':\n",
    "        ind = my_cookies.index(cookie)\n",
    "        cookies = new_cookies_process(ind)\n",
    "        return login_using_cookie_selenium(url, cookies)\n",
    "        \n",
    "    return soup"
   ]
  },
  {
   "cell_type": "code",
   "execution_count": null,
   "id": "a8271eac-7011-4613-9a46-ced1af3733c5",
   "metadata": {
    "scrolled": true
   },
   "outputs": [],
   "source": [
    "url=''\n",
    "soup = login_using_cookie_selenium(url,my_login_cookies)"
   ]
  },
  {
   "cell_type": "code",
   "execution_count": null,
   "id": "fd419224-77ae-4ed0-a75d-e25282045277",
   "metadata": {},
   "outputs": [],
   "source": []
  },
  {
   "cell_type": "code",
   "execution_count": null,
   "id": "07692956-58e2-4a5a-94bb-d5a18d5ce682",
   "metadata": {},
   "outputs": [],
   "source": []
  },
  {
   "cell_type": "code",
   "execution_count": null,
   "id": "8faa4f37-a890-481d-a9a4-9007caad0edf",
   "metadata": {},
   "outputs": [],
   "source": []
  },
  {
   "cell_type": "code",
   "execution_count": null,
   "id": "73fdbd93-7a70-4f92-b1ab-521f4f7f9c68",
   "metadata": {},
   "outputs": [],
   "source": []
  },
  {
   "cell_type": "code",
   "execution_count": null,
   "id": "9056a993-fdfb-41fd-b088-48dfe634bfe9",
   "metadata": {},
   "outputs": [],
   "source": []
  },
  {
   "cell_type": "code",
   "execution_count": null,
   "id": "a9580acb-e4c3-4325-b8c9-723c9bc03920",
   "metadata": {},
   "outputs": [],
   "source": []
  },
  {
   "cell_type": "code",
   "execution_count": null,
   "id": "25e433c7-8004-48c3-8bcb-297762a69be2",
   "metadata": {},
   "outputs": [],
   "source": []
  },
  {
   "cell_type": "code",
   "execution_count": null,
   "id": "1db28ca3-9fd8-4fe6-b963-6958ff442fe9",
   "metadata": {},
   "outputs": [],
   "source": []
  },
  {
   "cell_type": "code",
   "execution_count": null,
   "id": "280733c1-281f-4809-bc15-36596421f667",
   "metadata": {},
   "outputs": [],
   "source": []
  },
  {
   "cell_type": "code",
   "execution_count": null,
   "id": "de5bda55-3308-440e-8780-2cd3e28eccb2",
   "metadata": {
    "scrolled": true
   },
   "outputs": [],
   "source": [
    "plain_text = soup.get_text()\n",
    "plain_text.strip()"
   ]
  },
  {
   "cell_type": "code",
   "execution_count": null,
   "id": "629985be-d3a6-4816-951c-efa418c8ef3a",
   "metadata": {},
   "outputs": [],
   "source": [
    "text_list = list(soup.stripped_strings)"
   ]
  },
  {
   "cell_type": "code",
   "execution_count": null,
   "id": "3d5b8860-61bd-444a-83bf-298d6ea7dfa3",
   "metadata": {},
   "outputs": [],
   "source": [
    "About  = text_list[82:91]\n",
    "About "
   ]
  },
  {
   "cell_type": "code",
   "execution_count": null,
   "id": "a571d48c-c676-41b4-923a-d9b0f67e3f08",
   "metadata": {
    "scrolled": true
   },
   "outputs": [],
   "source": [
    "exp = text_list[151:200]\n",
    "exp"
   ]
  },
  {
   "cell_type": "code",
   "execution_count": null,
   "id": "2c63c631-8b2d-451c-891f-17c9739f9780",
   "metadata": {},
   "outputs": [],
   "source": [
    "edu=text_list[235:250]\n",
    "edu"
   ]
  },
  {
   "cell_type": "code",
   "execution_count": null,
   "id": "a0dd3da9-8e93-4d15-8db2-6f67480bd3b6",
   "metadata": {},
   "outputs": [],
   "source": [
    "skill = text_list[250:262]\n",
    "skill"
   ]
  },
  {
   "cell_type": "code",
   "execution_count": null,
   "id": "c234c3b7-b21c-48b2-b134-bf8b52e0b94d",
   "metadata": {},
   "outputs": [],
   "source": []
  },
  {
   "cell_type": "code",
   "execution_count": null,
   "id": "4a06f4aa-c20e-4bf6-9244-a317eb147dab",
   "metadata": {},
   "outputs": [],
   "source": []
  },
  {
   "cell_type": "code",
   "execution_count": null,
   "id": "30ea27ca-77df-4c06-b677-6909987076dc",
   "metadata": {},
   "outputs": [],
   "source": [
    "for i,j in enumerate(text_list):\n",
    "    if j =='Education':\n",
    "        print(i)"
   ]
  },
  {
   "cell_type": "code",
   "execution_count": null,
   "id": "db4755e5-a13c-463e-bde4-f5e67a4f0709",
   "metadata": {},
   "outputs": [],
   "source": []
  }
 ],
 "metadata": {
  "kernelspec": {
   "display_name": "Python 3 (ipykernel)",
   "language": "python",
   "name": "python3"
  },
  "language_info": {
   "codemirror_mode": {
    "name": "ipython",
    "version": 3
   },
   "file_extension": ".py",
   "mimetype": "text/x-python",
   "name": "python",
   "nbconvert_exporter": "python",
   "pygments_lexer": "ipython3",
   "version": "3.10.12"
  }
 },
 "nbformat": 4,
 "nbformat_minor": 5
}
